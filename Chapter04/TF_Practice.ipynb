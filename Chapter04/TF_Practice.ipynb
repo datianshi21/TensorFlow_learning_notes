{
 "cells": [
  {
   "cell_type": "code",
   "execution_count": 5,
   "metadata": {},
   "outputs": [],
   "source": [
    "import tensorflow as tf\n",
    "import numpy as np"
   ]
  },
  {
   "cell_type": "code",
   "execution_count": 13,
   "metadata": {},
   "outputs": [
    {
     "name": "stdout",
     "output_type": "stream",
     "text": [
      "0.5\n",
      "[ 2.   3.5]\n",
      "[ 1.5  4. ]\n"
     ]
    }
   ],
   "source": [
    "x = tf.constant([1.0, 0.0, 1.0, 0.0])\n",
    "y = tf.reduce_mean(x)\n",
    "x2 = tf.constant([[1.0, 2.0], [3.0, 5.0]])\n",
    "y2 = tf.reduce_mean(x2, 0)\n",
    "y3 = tf.reduce_mean(x2, 1)\n",
    "with tf.Session() as sess:\n",
    "    print (sess.run(y))\n",
    "    print (sess.run(y2))\n",
    "    print (sess.run(y3))"
   ]
  },
  {
   "cell_type": "code",
   "execution_count": null,
   "metadata": {
    "collapsed": true
   },
   "outputs": [],
   "source": []
  }
 ],
 "metadata": {
  "kernelspec": {
   "display_name": "Python 3",
   "language": "python",
   "name": "python3"
  },
  "language_info": {
   "codemirror_mode": {
    "name": "ipython",
    "version": 3
   },
   "file_extension": ".py",
   "mimetype": "text/x-python",
   "name": "python",
   "nbconvert_exporter": "python",
   "pygments_lexer": "ipython3",
   "version": "3.6.3"
  }
 },
 "nbformat": 4,
 "nbformat_minor": 2
}
