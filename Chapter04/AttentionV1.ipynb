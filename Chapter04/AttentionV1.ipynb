{
 "cells": [
  {
   "cell_type": "code",
   "execution_count": 2,
   "metadata": {
    "collapsed": true
   },
   "outputs": [],
   "source": [
    "#! -*- coding: utf-8 -*-\n",
    "\n",
    "import tensorflow as tf\n",
    "\n",
    "'''\n",
    "inputs是一个形如(batch_size, seq_len, word_size)的张量；\n",
    "函数返回一个形如(batch_size, seq_len, position_size)的位置张量。\n",
    "'''\n",
    "def Position_Embedding(inputs, position_size):\n",
    "    batch_size,seq_len = tf.shape(inputs)[0],tf.shape(inputs)[1]\n",
    "    position_j = 1. / tf.pow(10000., \\\n",
    "                             2 * tf.range(position_size / 2, dtype=tf.float32 \\\n",
    "                            ) / position_size)\n",
    "    position_j = tf.expand_dims(position_j, 0)\n",
    "    position_i = tf.range(tf.cast(seq_len, tf.float32), dtype=tf.float32)\n",
    "    position_i = tf.expand_dims(position_i, 1)\n",
    "    position_ij = tf.matmul(position_i, position_j)\n",
    "    position_ij = tf.concat([tf.cos(position_ij), tf.sin(position_ij)], 1)\n",
    "    position_embedding = tf.expand_dims(position_ij, 0) \\\n",
    "                         + tf.zeros((batch_size, seq_len, position_size))\n",
    "    return position_embedding"
   ]
  },
  {
   "cell_type": "code",
   "execution_count": 3,
   "metadata": {},
   "outputs": [
    {
     "name": "stdout",
     "output_type": "stream",
     "text": [
      "False\n"
     ]
    }
   ],
   "source": [
    "'''\n",
    "inputs是一个二阶以上的张量，代表输入序列，比如形如(batch_size, seq_len, input_size)的张量；\n",
    "seq_len是一个形如(batch_size,)的张量，代表每个序列的实际长度，多出部分都被忽略；\n",
    "mode分为mul和add，mul是指把多出部分全部置零，一般用于全连接层之前；\n",
    "add是指把多出部分全部减去一个大的常数，一般用于softmax之前。\n",
    "'''\n",
    "def Mask(inputs, seq_len, mode='mul'):\n",
    "    if seq_len == None:\n",
    "        return inputs\n",
    "    else:\n",
    "        mask = tf.cast(tf.sequence_mask(seq_len), tf.float32)\n",
    "        for _ in range(len(inputs.shape)-2):\n",
    "            mask = tf.expand_dims(mask, 2)\n",
    "        if mode == 'mul':\n",
    "            return inputs * mask\n",
    "        if mode == 'add':\n",
    "            return inputs - (1 - mask) * 1e12\n"
   ]
  },
  {
   "cell_type": "code",
   "execution_count": null,
   "metadata": {
    "collapsed": true
   },
   "outputs": [],
   "source": [
    "'''\n",
    "普通的全连接\n",
    "inputs是一个二阶或二阶以上的张量，即形如(batch_size,...,input_size)。\n",
    "只对最后一个维度做矩阵乘法，即输出一个形如(batch_size,...,ouput_size)的张量。\n",
    "'''\n",
    "def Dense(inputs, ouput_size, bias=True, seq_len=None):\n",
    "    input_size = int(inputs.shape[-1])\n",
    "    W = tf.Variable(tf.random_uniform([input_size, ouput_size], -0.05, 0.05))\n",
    "    if bias:\n",
    "        b = tf.Variable(tf.random_uniform([ouput_size], -0.05, 0.05))\n",
    "    else:\n",
    "        b = 0\n",
    "    outputs = tf.matmul(tf.reshape(inputs, (-1, input_size)), W) + b\n",
    "    outputs = tf.reshape(outputs, \\\n",
    "                         tf.concat([tf.shape(inputs)[:-1], [ouput_size]], 0)\n",
    "                        )\n",
    "    if seq_len != None:\n",
    "        outputs = Mask(outputs, seq_len, 'mul')\n",
    "    return outputs"
   ]
  },
  {
   "cell_type": "code",
   "execution_count": null,
   "metadata": {
    "collapsed": true
   },
   "outputs": [],
   "source": [
    "'''\n",
    "Multi-Head Attention的实现\n",
    "'''\n",
    "def Attention(Q, K, V, nb_head, size_per_head, Q_len=None, V_len=None):\n",
    "    #对Q、K、V分别作线性映射\n",
    "    Q = Dense(Q, nb_head * size_per_head, False)\n",
    "    Q = tf.reshape(Q, (-1, tf.shape(Q)[1], nb_head, size_per_head))\n",
    "    Q = tf.transpose(Q, [0, 2, 1, 3])\n",
    "    K = Dense(K, nb_head * size_per_head, False)\n",
    "    K = tf.reshape(K, (-1, tf.shape(K)[1], nb_head, size_per_head))\n",
    "    K = tf.transpose(K, [0, 2, 1, 3])\n",
    "    V = Dense(V, nb_head * size_per_head, False)\n",
    "    V = tf.reshape(V, (-1, tf.shape(V)[1], nb_head, size_per_head))\n",
    "    V = tf.transpose(V, [0, 2, 1, 3])\n",
    "    #计算内积，然后mask，然后softmax\n",
    "    A = tf.matmul(Q, K, transpose_b=True) / tf.sqrt(float(size_per_head))\n",
    "    A = tf.transpose(A, [0, 3, 2, 1])\n",
    "    A = Mask(A, V_len, mode='add')\n",
    "    A = tf.transpose(A, [0, 3, 2, 1])\n",
    "    A = tf.nn.softmax(A)\n",
    "    #输出并mask\n",
    "    O = tf.matmul(A, V)\n",
    "    O = tf.transpose(O, [0, 2, 1, 3])\n",
    "    O = tf.reshape(O, (-1, tf.shape(O)[1], nb_head * size_per_head))\n",
    "    O = Mask(O, Q_len, 'mul')\n",
    "    return O"
   ]
  }
 ],
 "metadata": {
  "kernelspec": {
   "display_name": "Python 3",
   "language": "python",
   "name": "python3"
  },
  "language_info": {
   "codemirror_mode": {
    "name": "ipython",
    "version": 3
   },
   "file_extension": ".py",
   "mimetype": "text/x-python",
   "name": "python",
   "nbconvert_exporter": "python",
   "pygments_lexer": "ipython3",
   "version": "3.6.3"
  }
 },
 "nbformat": 4,
 "nbformat_minor": 2
}
