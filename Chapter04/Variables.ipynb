{
 "cells": [
  {
   "cell_type": "code",
   "execution_count": 14,
   "metadata": {},
   "outputs": [],
   "source": [
    "import tensorflow as tf\n",
    "W = tf.Variable(initial_value=tf.random_normal(shape=(1, 4), mean=100, stddev=0.35))\n",
    "W2 = tf.Variable(initial_value=tf.random_gamma([10], [0.5, 1.5]))\n",
    "W3 = tf.Variable(initial_value=tf.linspace(start=10.0, stop=12.0, num=3))\n",
    "a = tf.zeros([3, 4], tf.int32)\n",
    "b = tf.zeros_like([[1, 2, 3], [4, 5, 6]])\n",
    "c = tf.fill([2, 3], 9)\n",
    "weights = tf.Variable(tf.random_normal(shape=(1, 4), stddev=0.35), name=\"weights\")"
   ]
  },
  {
   "cell_type": "code",
   "execution_count": 17,
   "metadata": {},
   "outputs": [
    {
     "name": "stdout",
     "output_type": "stream",
     "text": [
      "[[  99.80930328  100.02727509  100.22644043   99.55309296]]\n",
      "[[  4.99328405e-01   1.48124886e+00]\n",
      " [  4.23995256e-01   1.23796129e+00]\n",
      " [  3.01675290e-01   4.58564848e-01]\n",
      " [  9.94044617e-02   3.99283558e-01]\n",
      " [  2.87610926e-02   5.47406137e-01]\n",
      " [  5.31611554e-02   5.14783859e-01]\n",
      " [  1.07742810e+00   4.96799916e-01]\n",
      " [  7.81522412e-03   1.31598246e+00]\n",
      " [  1.56601250e+00   5.06877184e-01]\n",
      " [  1.34150311e-03   8.83785307e-01]]\n",
      "[ 10.  11.  12.]\n",
      "[[0 0 0 0]\n",
      " [0 0 0 0]\n",
      " [0 0 0 0]]\n",
      "[[0 0 0]\n",
      " [0 0 0]]\n",
      "[[9 9 9]\n",
      " [9 9 9]]\n",
      "[[-0.0362974  -0.24355324 -0.01400177  0.3343108 ]]\n",
      "[<tf.Variable 'Variable:0' shape=(1, 4) dtype=float32_ref>, <tf.Variable 'Variable_1:0' shape=(1, 4) dtype=float32_ref>, <tf.Variable 'Variable_2:0' shape=(10, 2) dtype=float32_ref>, <tf.Variable 'Variable_3:0' shape=(1, 4) dtype=float32_ref>, <tf.Variable 'Variable_4:0' shape=(10, 2) dtype=float32_ref>, <tf.Variable 'Variable_5:0' shape=(1, 4) dtype=float32_ref>, <tf.Variable 'Variable_6:0' shape=(10, 2) dtype=float32_ref>, <tf.Variable 'Variable_7:0' shape=(3,) dtype=float32_ref>, <tf.Variable 'Variable_8:0' shape=(1, 4) dtype=float32_ref>, <tf.Variable 'Variable_9:0' shape=(10, 2) dtype=float32_ref>, <tf.Variable 'Variable_10:0' shape=(3,) dtype=float32_ref>, <tf.Variable 'Variable_11:0' shape=(1, 4) dtype=float32_ref>, <tf.Variable 'Variable_12:0' shape=(10, 2) dtype=float32_ref>, <tf.Variable 'Variable_13:0' shape=(3,) dtype=float32_ref>, <tf.Variable 'weights:0' shape=(1, 4) dtype=float32_ref>]\n"
     ]
    }
   ],
   "source": [
    "with tf.Session() as sess:\n",
    "    sess.run(tf.global_variables_initializer())\n",
    "    print (sess.run(W))\n",
    "    print (sess.run(W2))\n",
    "    print (sess.run(W3))\n",
    "    print (sess.run(a))\n",
    "    print (sess.run(b))\n",
    "    print (sess.run(c))\n",
    "    print (sess.run(weights))\n",
    "    print (tf.global_variables())"
   ]
  },
  {
   "cell_type": "code",
   "execution_count": null,
   "metadata": {
    "collapsed": true
   },
   "outputs": [],
   "source": []
  },
  {
   "cell_type": "code",
   "execution_count": null,
   "metadata": {
    "collapsed": true
   },
   "outputs": [],
   "source": []
  }
 ],
 "metadata": {
  "kernelspec": {
   "display_name": "Python 3",
   "language": "python",
   "name": "python3"
  },
  "language_info": {
   "codemirror_mode": {
    "name": "ipython",
    "version": 3
   },
   "file_extension": ".py",
   "mimetype": "text/x-python",
   "name": "python",
   "nbconvert_exporter": "python",
   "pygments_lexer": "ipython3",
   "version": "3.6.3"
  }
 },
 "nbformat": 4,
 "nbformat_minor": 2
}
