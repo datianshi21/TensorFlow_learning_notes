{
 "cells": [
  {
   "cell_type": "code",
   "execution_count": 1,
   "metadata": {
    "collapsed": true
   },
   "outputs": [],
   "source": [
    "import tensorflow as tf"
   ]
  },
  {
   "cell_type": "code",
   "execution_count": 2,
   "metadata": {},
   "outputs": [
    {
     "name": "stdout",
     "output_type": "stream",
     "text": [
      "S1\n",
      "S2\n",
      "S3\n",
      "Tensor(\"stack:0\", shape=(4, 2), dtype=float32)\n",
      "S4\n",
      "S5\n",
      "[2 2 1]\n",
      "[2 2 1]\n",
      "<class 'tensorflow.python.framework.ops.Tensor'>\n",
      "<class 'tensorflow.python.framework.ops.Tensor'>\n",
      "S6\n"
     ]
    }
   ],
   "source": [
    "filename_queue = tf.train.string_input_producer([\"/Users/zuyan/eclipse-workspace/AttentionModel/Attention/data2.csv\"])\n",
    "reader = tf.TextLineReader()\n",
    "value = reader.read(filename_queue)\n",
    "print (\"S1\")\n",
    "record_defaults = [[0.0], [0.0], [0.0], [0.0]]\n",
    "id, age, income, outgo = tf.decode_csv(value, record_defaults=record_defaults)\n",
    "output = tf.decode_csv(value, record_defaults=record_defaults)\n",
    "print (\"S2\")\n",
    "a = tf.constant([2, 2, 1], name=\"x\")\n",
    "features = tf.stack([id, age, income, outgo])\n",
    "print (\"S3\")\n",
    "print (features)\n",
    "with tf.Session() as sess:\n",
    "    print (\"S4\")\n",
    "    sess.run(tf.global_variables_initializer())\n",
    "    print (\"S5\")\n",
    "    print (sess.run(a))\n",
    "    print (a.eval())\n",
    "    print (type(output[0]))\n",
    "    print (type(output[0]))\n",
    "    #print (tf.Print(output[0], [output[0]], \"Bias: \"))\n",
    "    #print (output[0].eval())\n",
    "    #print (sess.run(tf.decode_csv(value, record_defaults=record_defaults)))\n",
    "    #print (output.eval())\n",
    "    #print (sess.run(id))\n",
    "    print (\"S6\")\n",
    "    #print (sess.run(features))\n",
    "    #print (features.eval())"
   ]
  },
  {
   "cell_type": "code",
   "execution_count": null,
   "metadata": {
    "collapsed": true
   },
   "outputs": [],
   "source": []
  }
 ],
 "metadata": {
  "kernelspec": {
   "display_name": "Python 3",
   "language": "python",
   "name": "python3"
  },
  "language_info": {
   "codemirror_mode": {
    "name": "ipython",
    "version": 3
   },
   "file_extension": ".py",
   "mimetype": "text/x-python",
   "name": "python",
   "nbconvert_exporter": "python",
   "pygments_lexer": "ipython3",
   "version": "3.6.3"
  }
 },
 "nbformat": 4,
 "nbformat_minor": 2
}
