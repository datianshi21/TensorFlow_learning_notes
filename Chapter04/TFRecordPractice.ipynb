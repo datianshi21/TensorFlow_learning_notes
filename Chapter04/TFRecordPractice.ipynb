{
 "cells": [
  {
   "cell_type": "code",
   "execution_count": 2,
   "metadata": {},
   "outputs": [
    {
     "name": "stdout",
     "output_type": "stream",
     "text": [
      "Success\n",
      "Success\n"
     ]
    }
   ],
   "source": [
    "import tensorflow as tf\n",
    "writer = tf.python_io.TFRecordWriter(\"stat.tfrecord\")\n",
    "for i in range(1, 3):\n",
    "    example = tf.train.Example(\n",
    "        features = tf.train.Features(\n",
    "            feature={\n",
    "            'id': tf.train.Feature(int64_list=tf.train.Int64List(value=[i])),\n",
    "            'age': tf.train.Feature(int64_list=tf.train.Int64List(value=[i*24])),\n",
    "            'income': tf.train.Feature(float_list=tf.train.FloatList(value=[i*2048.0])),\n",
    "            'outgo': tf.train.Feature(float_list=tf.train.FloatList(value=[i*1024.0]))\n",
    "            }\n",
    "        )\n",
    "    )\n",
    "    writer.write(example.SerializeToString())\n",
    "    print (\"Success\")\n",
    "writer.close()"
   ]
  },
  {
   "cell_type": "code",
   "execution_count": null,
   "metadata": {
    "collapsed": true
   },
   "outputs": [],
   "source": []
  },
  {
   "cell_type": "code",
   "execution_count": null,
   "metadata": {
    "collapsed": true
   },
   "outputs": [],
   "source": []
  }
 ],
 "metadata": {
  "kernelspec": {
   "display_name": "Python 3",
   "language": "python",
   "name": "python3"
  },
  "language_info": {
   "codemirror_mode": {
    "name": "ipython",
    "version": 3
   },
   "file_extension": ".py",
   "mimetype": "text/x-python",
   "name": "python",
   "nbconvert_exporter": "python",
   "pygments_lexer": "ipython3",
   "version": "3.6.3"
  }
 },
 "nbformat": 4,
 "nbformat_minor": 2
}
