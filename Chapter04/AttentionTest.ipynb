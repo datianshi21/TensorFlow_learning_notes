{
 "cells": [
  {
   "cell_type": "code",
   "execution_count": 107,
   "metadata": {},
   "outputs": [],
   "source": [
    "import tensorflow as tf\n",
    "import math\n",
    "#L = 2, dim(key) = 3, dim(value) = 3, Lq = 2\n",
    "L = 2\n",
    "dim_key = 3\n",
    "Lq = 2\n",
    "diim_value = 3\n",
    "\n",
    "K = tf.constant([[1.0, 2.0, 3.0],\n",
    "                 [3.0, 20.0, 5.0]]) #L * dim(key), \n",
    "Q = tf.constant([[4.0, 2.0, 4.0], \n",
    "                 [4.0, 1.0, 10.0]]) #Lq * dim(key)\n",
    "V = tf.constant([[2, 3, 4],\n",
    "                 [4.0, 3.0, 8.0]]) #L * dim(value) \n",
    "\n",
    "C1 = tf.matmul(Q, K, transpose_b=True)   #Softmax should be dim(K) * dim(V), 这里K维代表的是每一个K的组合\n",
    "C2 = tf.constant([[2, 7.2],\n",
    "                [3.6, 8.2]])\n",
    "C3 = tf.constant([[ 20/10,  72/10],\n",
    "                  [ 36/10,  82/10]])\n",
    "\n",
    "A1 = tf.nn.softmax(C1)\n",
    "A3 = tf.nn.softmax(C3)\n",
    "\n",
    "V= tf.cast(V, tf.float32)\n",
    "KQV_a1 = tf.matmul(A1, V)\n",
    "KQV_a3 = tf.matmul(A3, V)\n"
   ]
  },
  {
   "cell_type": "code",
   "execution_count": 108,
   "metadata": {},
   "outputs": [
    {
     "name": "stdout",
     "output_type": "stream",
     "text": [
      "QK' beftore scaled:\n",
      "[[ 20.  72.]\n",
      " [ 36.  82.]]\n",
      "Attention before scaled:\n",
      "[[  2.61027905e-23   1.00000000e+00]\n",
      " [  1.05306175e-20   1.00000000e+00]]\n",
      "The next Query before scaled:\n",
      "[[ 4.  3.  8.]\n",
      " [ 4.  3.  8.]]\n",
      "QK' after scaled by dk:\n",
      "[[ 2.          7.19999981]\n",
      " [ 3.5999999   8.19999981]]\n",
      "Attention after scaled:\n",
      "[[ 0.0054863   0.99451375]\n",
      " [ 0.0099518   0.99004817]]\n",
      "The next Query after scaled:\n",
      "[[ 3.9890275   3.00000024  7.978055  ]\n",
      " [ 3.98009634  3.          7.96019268]]\n"
     ]
    }
   ],
   "source": [
    "with tf.Session() as sess:\n",
    "    print (\"QK' beftore scaled:\")\n",
    "    print (sess.run(C1))\n",
    "    print (\"Attention before scaled:\")\n",
    "    print (sess.run(A1))\n",
    "    print (\"The next Query before scaled:\")\n",
    "    print (sess.run(KQV_a1))\n",
    "    \n",
    "    print (\"QK' after scaled by dk:\")\n",
    "    print (sess.run(C3))\n",
    "    print (\"Attention after scaled:\")\n",
    "    print (sess.run(A3))\n",
    "    print (\"The next Query after scaled:\")\n",
    "    print (sess.run(KQV_a3))"
   ]
  },
  {
   "cell_type": "code",
   "execution_count": 109,
   "metadata": {},
   "outputs": [
    {
     "name": "stdout",
     "output_type": "stream",
     "text": [
      "[[1 0 0 0 0]\n",
      " [0 1 0 0 0]\n",
      " [0 0 1 0 0]\n",
      " [0 0 0 1 0]\n",
      " [0 0 0 0 1]]\n",
      "[[0 1 0 0 0]\n",
      " [0 0 1 0 0]\n",
      " [0 0 0 1 0]\n",
      " [1 0 0 0 0]\n",
      " [0 0 0 1 0]\n",
      " [0 0 1 0 0]\n",
      " [0 1 0 0 0]]\n"
     ]
    }
   ],
   "source": [
    "import tensorflow as tf\n",
    "import numpy as np\n",
    "\n",
    "input_ids = tf.placeholder(dtype=tf.int32, shape=[None])\n",
    "\n",
    "embedding = tf.Variable(np.identity(5, dtype=np.int32))\n",
    "input_embedding = tf.nn.embedding_lookup(embedding, input_ids)\n",
    "\n",
    "sess = tf.InteractiveSession()\n",
    "sess.run(tf.global_variables_initializer())\n",
    "print(embedding.eval())\n",
    "print(sess.run(input_embedding, feed_dict={input_ids:[1, 2, 3, 0, 3, 2, 1]}))"
   ]
  },
  {
   "cell_type": "code",
   "execution_count": null,
   "metadata": {
    "collapsed": true
   },
   "outputs": [],
   "source": []
  }
 ],
 "metadata": {
  "kernelspec": {
   "display_name": "Python 3",
   "language": "python",
   "name": "python3"
  },
  "language_info": {
   "codemirror_mode": {
    "name": "ipython",
    "version": 3
   },
   "file_extension": ".py",
   "mimetype": "text/x-python",
   "name": "python",
   "nbconvert_exporter": "python",
   "pygments_lexer": "ipython3",
   "version": "3.6.3"
  }
 },
 "nbformat": 4,
 "nbformat_minor": 2
}
