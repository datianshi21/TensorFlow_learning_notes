{
 "cells": [
  {
   "cell_type": "code",
   "execution_count": 18,
   "metadata": {},
   "outputs": [],
   "source": [
    "import tensorflow as tf\n",
    "test_data = tf.constant([[1.0], [2.0], [3.0]])\n",
    "test_sm = tf.nn.softmax(test_data)\n",
    "test_sm_T = tf.transpose(test_sm)\n",
    "mat1 = tf.constant([[2.0, 20.0], [1.0, 10.0], [0.5, 5.0], [0.25, 2.5]])\n",
    "mat1_softmax = tf.nn.softmax(mat1)"
   ]
  },
  {
   "cell_type": "code",
   "execution_count": 19,
   "metadata": {},
   "outputs": [
    {
     "name": "stdout",
     "output_type": "stream",
     "text": [
      "[[ 1.]\n",
      " [ 1.]\n",
      " [ 1.]]\n",
      "[[ 1.  1.  1.]]\n",
      "[[  1.52299791e-08   1.00000000e+00]\n",
      " [  1.23394580e-04   9.99876618e-01]\n",
      " [  1.09869428e-02   9.89013076e-01]\n",
      " [  9.53494608e-02   9.04650509e-01]]\n"
     ]
    }
   ],
   "source": [
    "with tf.Session() as sess:\n",
    "    print (sess.run(test_sm))\n",
    "    print (sess.run(test_sm_T))\n",
    "    print (sess.run(mat1_softmax))"
   ]
  },
  {
   "cell_type": "code",
   "execution_count": null,
   "metadata": {
    "collapsed": true
   },
   "outputs": [],
   "source": []
  }
 ],
 "metadata": {
  "kernelspec": {
   "display_name": "Python 3",
   "language": "python",
   "name": "python3"
  },
  "language_info": {
   "codemirror_mode": {
    "name": "ipython",
    "version": 3
   },
   "file_extension": ".py",
   "mimetype": "text/x-python",
   "name": "python",
   "nbconvert_exporter": "python",
   "pygments_lexer": "ipython3",
   "version": "3.6.3"
  }
 },
 "nbformat": 4,
 "nbformat_minor": 2
}
