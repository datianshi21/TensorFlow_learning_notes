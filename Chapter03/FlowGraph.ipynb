{
 "cells": [
  {
   "cell_type": "code",
   "execution_count": 32,
   "metadata": {},
   "outputs": [],
   "source": [
    "import tensorflow as tf\n",
    "g1 = tf.Graph()\n",
    "with g1.as_default():\n",
    "    v = tf.get_variable(\"v\", [2, 4], initializer=tf.zeros_initializer())\n",
    "    \n",
    "g2 = tf.Graph()\n",
    "with g2.as_default():\n",
    "    v = tf.get_variable(\"v\", [1, 4], initializer=tf.ones_initializer())\n",
    "    \n",
    "g3 = tf.Graph()\n",
    "with g3.as_default():\n",
    "    value = [[2, 4, 6], [4, 6, 8]]\n",
    "    init = tf.constant_initializer(value)\n",
    "    v = tf.get_variable(\"v\", [2, 3], initializer=init)\n",
    "    \n",
    "#Step1: Define the value\n",
    "#Step2: Define the initializer\n",
    "#Step3: Initialize the variable\n",
    "\n",
    "g4 = tf.Graph()\n",
    "with g4.as_default():\n",
    "    value = [[1, 1, 1], [2, 2, 2], [3, 3, 3]]\n",
    "    init = tf.constant_initializer(value)\n",
    "    value2 = [[4, 4, 4], [5, 5, 5], [6, 6, 6]]\n",
    "    v4 = tf.get_variable(\"v4\", [3, 3], initializer=init)\n",
    "    init2 = tf.constant_initializer(value2)\n",
    "    v5 = tf.get_variable(\"v5\", [4, 3], initializer=init2)\n"
   ]
  },
  {
   "cell_type": "code",
   "execution_count": 33,
   "metadata": {},
   "outputs": [
    {
     "name": "stdout",
     "output_type": "stream",
     "text": [
      "[[ 0.  0.  0.  0.]\n",
      " [ 0.  0.  0.  0.]]\n",
      "[[ 1.  1.  1.  1.]]\n",
      "[[ 2.  4.  6.]\n",
      " [ 4.  6.  8.]]\n",
      "[[ 1.  1.  1.]\n",
      " [ 2.  2.  2.]\n",
      " [ 3.  3.  3.]]\n",
      "[[ 4.  4.  4.]\n",
      " [ 5.  5.  5.]\n",
      " [ 6.  6.  6.]\n",
      " [ 6.  6.  6.]]\n"
     ]
    }
   ],
   "source": [
    "with tf.Session(graph=g1) as sess:\n",
    "    tf.global_variables_initializer().run()\n",
    "    with tf.variable_scope(\"\", reuse=True):\n",
    "        print (sess.run(tf.get_variable(\"v\")))\n",
    "\n",
    "with tf.Session(graph=g2) as sess:\n",
    "    tf.global_variables_initializer().run()\n",
    "    with tf.variable_scope(\"\", reuse=True):\n",
    "        print (sess.run(tf.get_variable(\"v\")))\n",
    "        \n",
    "with tf.Session(graph=g3) as sess:\n",
    "    tf.global_variables_initializer().run()\n",
    "    with tf.variable_scope(\"\", reuse=True):\n",
    "        print (sess.run(tf.get_variable(\"v\")))\n",
    "        \n",
    "with tf.Session(graph=g4) as sess:\n",
    "    tf.global_variables_initializer().run()\n",
    "    with tf.variable_scope(\"\", reuse=True):\n",
    "        print (sess.run(tf.get_variable(\"v4\")))\n",
    "        print (sess.run(tf.get_variable(\"v5\")))"
   ]
  },
  {
   "cell_type": "code",
   "execution_count": null,
   "metadata": {
    "collapsed": true
   },
   "outputs": [],
   "source": []
  }
 ],
 "metadata": {
  "kernelspec": {
   "display_name": "Python 3",
   "language": "python",
   "name": "python3"
  },
  "language_info": {
   "codemirror_mode": {
    "name": "ipython",
    "version": 3
   },
   "file_extension": ".py",
   "mimetype": "text/x-python",
   "name": "python",
   "nbconvert_exporter": "python",
   "pygments_lexer": "ipython3",
   "version": "3.6.3"
  }
 },
 "nbformat": 4,
 "nbformat_minor": 2
}
