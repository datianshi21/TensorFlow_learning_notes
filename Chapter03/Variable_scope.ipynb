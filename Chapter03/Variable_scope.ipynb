{
 "cells": [
  {
   "cell_type": "code",
   "execution_count": 5,
   "metadata": {},
   "outputs": [
    {
     "name": "stdout",
     "output_type": "stream",
     "text": [
      "V1/a1:0\n",
      "V1_4/a2:0\n",
      "V2/a1:0\n",
      "V2_3/a2:0\n"
     ]
    }
   ],
   "source": [
    "import tensorflow as tf;    \n",
    "import numpy as np;    \n",
    "import matplotlib.pyplot as plt;    \n",
    "  \n",
    "with tf.variable_scope('V1'):  \n",
    "    #a1 = tf.get_variable(name='a1', shape=[1], initializer=tf.constant_initializer(1))  \n",
    "    a2 = tf.Variable(tf.random_normal(shape=[2,3], mean=0, stddev=1), name='a2')  \n",
    "with tf.variable_scope('V2'):  \n",
    "    #a3 = tf.get_variable(name='a1', shape=[1], initializer=tf.constant_initializer(1))  \n",
    "    a4 = tf.Variable(tf.random_normal(shape=[2,3], mean=0, stddev=1), name='a2')  \n",
    "    \n",
    "with tf.Session() as sess:  \n",
    "    sess.run(tf.initialize_all_variables())  \n",
    "    #print (a1.name)  \n",
    "    print (a2.name)  \n",
    "    #print (a3.name)  \n",
    "    print (a4.name)  "
   ]
  },
  {
   "cell_type": "code",
   "execution_count": null,
   "metadata": {
    "collapsed": true
   },
   "outputs": [],
   "source": []
  }
 ],
 "metadata": {
  "kernelspec": {
   "display_name": "Python 3",
   "language": "python",
   "name": "python3"
  },
  "language_info": {
   "codemirror_mode": {
    "name": "ipython",
    "version": 3
   },
   "file_extension": ".py",
   "mimetype": "text/x-python",
   "name": "python",
   "nbconvert_exporter": "python",
   "pygments_lexer": "ipython3",
   "version": "3.6.3"
  }
 },
 "nbformat": 4,
 "nbformat_minor": 2
}
